{
 "cells": [
  {
   "cell_type": "code",
   "execution_count": 81,
   "metadata": {},
   "outputs": [],
   "source": [
    "from __future__ import annotations\n",
    "from email.mime import application\n",
    "from typing import List\n",
    "import time\n",
    "\n",
    "from selenium import webdriver\n",
    "from selenium.webdriver.common.keys import Keys\n",
    "from selenium.webdriver.support.ui import Select\n",
    "\n",
    "from typed_dicts import LoginCredentials\n",
    "\n",
    "from selenium.webdriver.common.keys import Keys\n",
    "from selenium.webdriver.support.ui import Select"
   ]
  },
  {
   "cell_type": "code",
   "execution_count": 93,
   "metadata": {},
   "outputs": [],
   "source": [
    "class GovFindAJobSelenium:\n",
    "    URLS = {\"login\": \"https://findajob.dwp.gov.uk/sign-in\"}\n",
    "\n",
    "    PAGE_ELEMENTS_IDENTIFIERS = {\n",
    "        # Login form\n",
    "        \"login_email_id\": \"email\",\n",
    "        \"login_password_id\": \"password\",\n",
    "        # Job application form\n",
    "        \"job_application_full_name_id\": \"full_name\",\n",
    "        \"job_application_message_id\": \"message\",\n",
    "        \"job_application_cv_id\": \"cv_id\",\n",
    "        \"job_application_submit_button\": \"govuk-button\"\n",
    "    }\n",
    "\n",
    "    XPATH = {\n",
    "        \"number_of_pages_from_search_result\": \"//ul[@class='pager-items']/li[last()]\",\n",
    "        \"get_job_url_from_job_listing\": \"//div[@class='search-result']/h3[last()]/a[last()]\",\n",
    "    }\n",
    "\n",
    "    # Typed\n",
    "\n",
    "    def __init__(\n",
    "        self, job_application: JobApplication, login_credentials: LoginCredentials\n",
    "    ) -> None:\n",
    "        self.application: JobApplication = job_application\n",
    "        self.login_credentials: LoginCredentials = login_credentials\n",
    "\n",
    "        # Webdriver\n",
    "        self.web_driver: webdriver = None\n",
    "\n",
    "        # If we've logged into the account\n",
    "        self.logged_in = False\n",
    "\n",
    "    def find_and_apply_for_jobs(self):\n",
    "        \"\"\"Our runner function that handles the whole process for us\"\"\"\n",
    "        if not self.web_driver:\n",
    "            self.setup_web_driver()\n",
    "\n",
    "        if not self.is_logged_in():\n",
    "            self.login()\n",
    "\n",
    "        number_of_search_results_page: int = (\n",
    "            self.get_number_of_pages_from_search_for_jobs_results()\n",
    "        )\n",
    "\n",
    "        # Now we have the number of pages, we can go through each page and extract each job application url\n",
    "        job_urls: List[str] = self.get_job_urls_from_page_listing(number_of_search_results_page)\n",
    "\n",
    "        number_of_jobs_applied_for = 0\n",
    "        for job_url in job_urls:\n",
    "            application_successful = self.apply_for_job(job_url)    \n",
    "            if application_successful:\n",
    "                number_of_jobs_applied_for += 1\n",
    "                print(number_of_jobs_applied_for)\n",
    "\n",
    "\n",
    "        print(f\"Total number of jobs applied for: {self.application.number_of_successful_application()}\")\n",
    "\n",
    "    def apply_for_job(self, job_url: str) -> None:\n",
    "        if self.job_application_is_on_findajob_website(job_url):\n",
    "            self.fill_out_findajob_form()\n",
    "            return True\n",
    "\n",
    "        return False\n",
    "\n",
    "    def fill_out_findajob_form(self) -> None:\n",
    "        print(f\"Applying for job: {self.web_driver.current_url}\")\n",
    "\n",
    "        if \"findajob.dwp.gov.uk/apply\" not in self.web_driver.current_url:\n",
    "            print(f\"Invalid url: {self.web_driver.current_url}\")\n",
    "            return\n",
    "\n",
    "        try:\n",
    "            # CV\n",
    "            try:\n",
    "                cv_dropdown_select_element = Select(\n",
    "                    self.web_driver.find_element_by_id(GovFindAJobSelenium.PAGE_ELEMENTS_IDENTIFIERS[\"job_application_cv_id\"])\n",
    "                )\n",
    "                return cv_dropdown_select_element\n",
    "                cv_dropdown_select_element.select_by_visible_text(\n",
    "                    self.application.cv\n",
    "                )\n",
    "            except Exception as e:\n",
    "                raise Exception(f\"Unable to select cv! {e}\")\n",
    "\n",
    "            # Full name\n",
    "            try:\n",
    "                full_name_form_element = self.web_driver.find_element_by_id(\n",
    "                    GovFindAJobSelenium.PAGE_ELEMENTS_IDENTIFIERS[\"job_application_full_name_id\"]\n",
    "                )\n",
    "                self.selenium_clear_element_and_send_keys(full_name_form_element, self.application.full_name)\n",
    "            except Exception as e:\n",
    "                raise Exception(f\"Unable to send full name! {e}\")\n",
    "\n",
    "            # Message\n",
    "            try:\n",
    "                message_form_element = self.web_driver.find_element_by_id(\n",
    "                    GovFindAJobSelenium.PAGE_ELEMENTS_IDENTIFIERS[\"job_application_message_id\"]\n",
    "                )\n",
    "                self.selenium_clear_element_and_send_keys(message_form_element, self.application.message)\n",
    "            except Exception as e:\n",
    "                raise Exception(f\"Unable to send cover letter! {e}\")\n",
    "\n",
    "\n",
    "            # Submit the application\n",
    "            try:\n",
    "                submit_button = self.web_driver.find_elements_by_class_name(\n",
    "                    GovFindAJobSelenium.PAGE_ELEMENTS_IDENTIFIERS[\"job_application_submit_button\"]\n",
    "                )[-1]\n",
    "                submit_button.click()\n",
    "            except Exception as e:\n",
    "                raise Exception(f\"Couldn't click submit button! {e}\")\n",
    "\n",
    "            # If I don't put a sleep here the application doesn't go through? Not a fuck what's happening\n",
    "            time.sleep(3)\n",
    "            self.application.sucessful_applications.append(self.web_driver.current_url)\n",
    "            print(f\"Sucessfully applied for for job: {self.web_driver.current_url}\")\n",
    "\n",
    "        except Exception as e:\n",
    "            print(\n",
    "                f\"Unknown exception happened when applying for {self.web_driver.current_url}. {e}\"\n",
    "            )\n",
    "\n",
    "    def job_application_is_on_findajob_website(self, job_application_url: str) -> bool:\n",
    "        try:\n",
    "            print(f\"Determining if {job_application_url} is on findajob... loading\")\n",
    "            self.web_driver.get(job_application_url)\n",
    "\n",
    "            # Sometimes the application is gone but the page still exists!\n",
    "            # This causes the browser to freeze for some reason... handle this\n",
    "            if self.web_driver.current_url == \"https://findajob.dwp.gov.uk/error.html\":\n",
    "                print(\"This is an error page! The job no longer exists\")\n",
    "                return False\n",
    "\n",
    "            if \"findajob.dwp.gov.uk\" in self.web_driver.current_url:\n",
    "                print(f\"{job_application_url} is on findajob!\")\n",
    "                return True\n",
    "        except Exception as e:\n",
    "            print(f\"Unknonw exception: {e}\")\n",
    "\n",
    "        return False\n",
    "\n",
    "    def search_for_jobs(self, page_number=1) -> None:\n",
    "        \"\"\"Loads a job title and location results with a page number (default 1)\"\"\"\n",
    "        job_search_url = f\"https://findajob.dwp.gov.uk/search?q={self.application.job_title}&w={self.application.job_location}&p={page_number}&pp=50\"\n",
    "\n",
    "        try:\n",
    "            self.web_driver.get(job_search_url)\n",
    "        except Exception as e:\n",
    "            raise Exception(f\"Coulnd't search for jobs! {e}\")\n",
    "\n",
    "    def is_logged_in(self) -> bool:\n",
    "        if self.logged_in:\n",
    "            return True\n",
    "\n",
    "        return False\n",
    "\n",
    "    def login(self) -> None:\n",
    "        \"\"\"Login to the https://findajob.dwp.gov.uk/ using passed crendetials\"\"\"\n",
    "        print(\"Logging in...\")\n",
    "        try:\n",
    "            self.web_driver.get(GovFindAJobSelenium.URLS[\"login\"])\n",
    "        except Exception as e:\n",
    "            raise Exception(\n",
    "                f\"Exception happened whilst try to load the login page! Exception: {e}\"\n",
    "            )\n",
    "\n",
    "        # Enter credentials\n",
    "        try:\n",
    "            email_input_form_element = self.web_driver.find_element_by_id(\n",
    "                GovFindAJobSelenium.PAGE_ELEMENTS_IDENTIFIERS[\"login_email_id\"]\n",
    "            )\n",
    "            self.selenium_clear_element_and_send_keys(\n",
    "                email_input_form_element, self.login_credentials[\"email\"]\n",
    "            )\n",
    "        except Exception as e:\n",
    "            raise Exception(f\"Couldn't log in using email! {e}\")\n",
    "\n",
    "        try:\n",
    "            password_input_form_element = self.web_driver.find_element_by_id(\n",
    "                GovFindAJobSelenium.PAGE_ELEMENTS_IDENTIFIERS[\"login_password_id\"]\n",
    "            )\n",
    "            self.selenium_clear_element_and_send_keys(\n",
    "                password_input_form_element, self.login_credentials[\"password\"]\n",
    "            )\n",
    "        except Exception as e:\n",
    "            raise Exception(f\"Couldn't log in using password! {e}\")\n",
    "\n",
    "        # Once we've entered our password, we'll hit ENTER to login... this saves us finding and clicking the submit button\n",
    "        try:\n",
    "            password_input_form_element.send_keys(Keys.ENTER)\n",
    "        except Exception as e:\n",
    "            raise Exception(f\"Couldn't submit login form! {e}\")\n",
    "\n",
    "        time.sleep(3)  # If we don't have this, despite actually logging in, the title doesn't load and it executes as False... so keep this.\n",
    "        if self.web_driver.title == \"Sign in\":\n",
    "            raise ValueError(\"Invalid login credentials!\")\n",
    "        else:\n",
    "            print(\"Sucessfully logged in!\")\n",
    "            self.is_logged_in = True\n",
    "\n",
    "    def selenium_clear_element_and_send_keys(self, element, keys) -> None:\n",
    "        element.clear()\n",
    "        element.send_keys(keys)\n",
    "\n",
    "    def setup_web_driver(self) -> None:\n",
    "        \"\"\"Creates a selenium [Firefox] webdriver instances.\"\"\"\n",
    "        if self.web_driver != None:\n",
    "            print(\"Driver already setup!\")\n",
    "            return self.web_driver\n",
    "\n",
    "        try:\n",
    "            driver: webdriver.Firefox = webdriver.Firefox()\n",
    "            driver.minimize_window()\n",
    "        except Exception as error:\n",
    "            # Handle the errors yourself m8\n",
    "            raise Exception(error)\n",
    "\n",
    "        self.web_driver = driver\n",
    "\n",
    "    def destroy_web_driver(self) -> None:\n",
    "        if self.web_driver is None:\n",
    "            raise ValueError(\"Web driver is already destroyed!\")\n",
    "\n",
    "        self.web_driver.quit()\n",
    "\n",
    "    def get_number_of_pages_from_search_for_jobs_results(self) -> int:\n",
    "        \"\"\"Grabs the last item from the pager-items to determine the number of pages\"\"\"\n",
    "        print(\"Grabbing number of pages from search result\")\n",
    "\n",
    "        self.search_for_jobs()\n",
    "\n",
    "        try:\n",
    "            selenium_element: str = self.web_driver.find_element_by_xpath(\n",
    "                GovFindAJobSelenium.XPATH[\"number_of_pages_from_search_result\"]\n",
    "            )\n",
    "        except Exception as e:\n",
    "            raise Exception(f\"Coulnd't grab last page number from search result! {e}\")\n",
    "\n",
    "        number_of_pages_str: str = selenium_element.text\n",
    "        number_of_pages: int = int(number_of_pages_str)\n",
    "\n",
    "        print(f\"Number of pages found: {number_of_pages} \")\n",
    "        return number_of_pages\n",
    "\n",
    "    def get_job_urls_from_page_listing(self, number_of_search_results_page: int) -> List[str]:\n",
    "        print(\"Finding jobs listings...\")\n",
    "\n",
    "        job_application_urls: list = []\n",
    "        for page_number in range(1, number_of_search_results_page + 1):\n",
    "            self.search_for_jobs(page_number)\n",
    "\n",
    "            selenium_elements = self.web_driver.find_elements_by_xpath(\n",
    "                GovFindAJobSelenium.XPATH[\"get_job_url_from_job_listing\"]\n",
    "            )\n",
    "\n",
    "            print(f\"Number of urls: {len(selenium_elements)}\")\n",
    "            for selenium_element in selenium_elements:\n",
    "                url: str = selenium_element.get_attribute(\"href\")\n",
    "\n",
    "                # The url we find is like: https://findajob.dwp.gov.uk/details/7784066; this url doesn't direct to the form but to the job details\n",
    "                # But if we change the \"details\" to \"apply\" then it takes us to the application... so change this\n",
    "                url = url.replace(\"details\", \"apply\")\n",
    "                job_application_urls.append(url)\n",
    "\n",
    "        print(f\"Number of found applications: {len(job_application_urls)}\")\n",
    "        return job_application_urls\n"
   ]
  },
  {
   "cell_type": "code",
   "execution_count": 94,
   "metadata": {},
   "outputs": [],
   "source": [
    "from classes import JobApplication\n",
    "login_details  = {\n",
    "    \"email\": \"hfzcvdfhzmfbqjaiap@kvhrr.com\", \n",
    "    \"password\": \"nevergonnagiveyouup1\"\n",
    "}\n",
    "\n",
    " # Job specific\n",
    "job_title: str = \"Cleaner\"\n",
    "job_location: str = \"Wirral\"\n",
    "\n",
    "# Details to fill out form\n",
    "full_name: str = \"TONDO EIGHTEEN\"\n",
    "message: str = \"Hello daddy!\"\n",
    "target_cv_name: str = \"TONDO_CV.pdf\"\n",
    "\n",
    "application = JobApplication(\n",
    "    job_title=job_title,\n",
    "    job_location=job_location,\n",
    "    full_name=full_name,\n",
    "    cv=target_cv_name,\n",
    "message=message\n",
    ")\n",
    "runner = GovFindAJobSelenium(application, login_details)"
   ]
  },
  {
   "cell_type": "code",
   "execution_count": 95,
   "metadata": {},
   "outputs": [],
   "source": [
    "runner.setup_web_driver()"
   ]
  },
  {
   "cell_type": "code",
   "execution_count": 96,
   "metadata": {},
   "outputs": [
    {
     "name": "stdout",
     "output_type": "stream",
     "text": [
      "Logging in...\n"
     ]
    },
    {
     "name": "stderr",
     "output_type": "stream",
     "text": [
      "C:\\Users\\remf\\AppData\\Local\\Temp/ipykernel_13788/3000521632.py:170: DeprecationWarning: find_element_by_* commands are deprecated. Please use find_element() instead\n",
      "  email_input_form_element = self.web_driver.find_element_by_id(\n",
      "C:\\Users\\remf\\AppData\\Local\\Temp/ipykernel_13788/3000521632.py:180: DeprecationWarning: find_element_by_* commands are deprecated. Please use find_element() instead\n",
      "  password_input_form_element = self.web_driver.find_element_by_id(\n"
     ]
    },
    {
     "name": "stdout",
     "output_type": "stream",
     "text": [
      "Sucessfully logged in!\n"
     ]
    }
   ],
   "source": [
    "runner.login()"
   ]
  },
  {
   "cell_type": "code",
   "execution_count": 97,
   "metadata": {},
   "outputs": [],
   "source": [
    "runner.search_for_jobs()"
   ]
  },
  {
   "cell_type": "code",
   "execution_count": 98,
   "metadata": {},
   "outputs": [
    {
     "name": "stdout",
     "output_type": "stream",
     "text": [
      "Grabbing number of pages from search result\n",
      "Number of pages found: 2 \n"
     ]
    },
    {
     "name": "stderr",
     "output_type": "stream",
     "text": [
      "C:\\Users\\remf\\AppData\\Local\\Temp/ipykernel_13788/3000521632.py:234: DeprecationWarning: find_element_by_* commands are deprecated. Please use find_element() instead\n",
      "  selenium_element: str = self.web_driver.find_element_by_xpath(\n"
     ]
    }
   ],
   "source": [
    "no = runner.get_number_of_pages_from_search_for_jobs_results()"
   ]
  },
  {
   "cell_type": "code",
   "execution_count": 99,
   "metadata": {},
   "outputs": [
    {
     "name": "stdout",
     "output_type": "stream",
     "text": [
      "Finding jobs listings...\n"
     ]
    },
    {
     "name": "stderr",
     "output_type": "stream",
     "text": [
      "C:\\Users\\remf\\AppData\\Local\\Temp/ipykernel_13788/3000521632.py:253: DeprecationWarning: find_elements_by_* commands are deprecated. Please use find_elements() instead\n",
      "  selenium_elements = self.web_driver.find_elements_by_xpath(\n"
     ]
    },
    {
     "name": "stdout",
     "output_type": "stream",
     "text": [
      "Number of urls: 50\n",
      "Number of urls: 7\n",
      "Number of found applications: 57\n"
     ]
    }
   ],
   "source": [
    "urls = runner.get_job_urls_from_page_listing(no)"
   ]
  },
  {
   "cell_type": "code",
   "execution_count": 114,
   "metadata": {},
   "outputs": [
    {
     "name": "stdout",
     "output_type": "stream",
     "text": [
      "Applying for job: https://findajob.dwp.gov.uk/apply/8271800\n"
     ]
    },
    {
     "name": "stderr",
     "output_type": "stream",
     "text": [
      "C:\\Users\\remf\\AppData\\Local\\Temp/ipykernel_13788/3000521632.py:77: DeprecationWarning: find_element_by_* commands are deprecated. Please use find_element() instead\n",
      "  self.web_driver.find_element_by_id(GovFindAJobSelenium.PAGE_ELEMENTS_IDENTIFIERS[\"job_application_cv_id\"])\n"
     ]
    }
   ],
   "source": [
    "cv_dropdown_form_element = runner.web_driver.find_element_by_id(GovFindAJobSelenium.PAGE_ELEMENTS_IDENTIFIERS[\"job_application_cv_id\"])\n",
    "                cv_dropdown_form_element_Select = Select(cv_dropdown_form_element)\n",
    "                cv_dropdown_form_element_Select.select_by_value(\n",
    "                    self.application.cv\n",
    "                )"
   ]
  },
  {
   "cell_type": "code",
   "execution_count": 115,
   "metadata": {},
   "outputs": [
    {
     "ename": "NoSuchElementException",
     "evalue": "Message: Cannot locate option with value: TONDO_CV.pdf\n",
     "output_type": "error",
     "traceback": [
      "\u001b[1;31m---------------------------------------------------------------------------\u001b[0m",
      "\u001b[1;31mNoSuchElementException\u001b[0m                    Traceback (most recent call last)",
      "\u001b[1;32m~\\AppData\\Local\\Temp/ipykernel_13788/2810909780.py\u001b[0m in \u001b[0;36m<module>\u001b[1;34m\u001b[0m\n\u001b[0;32m      1\u001b[0m \u001b[0mrunner\u001b[0m\u001b[1;33m.\u001b[0m\u001b[0mapplication\u001b[0m\u001b[1;33m.\u001b[0m\u001b[0mcv\u001b[0m \u001b[1;33m=\u001b[0m \u001b[1;34m\"TONDO_CV.pdf\"\u001b[0m\u001b[1;33m\u001b[0m\u001b[1;33m\u001b[0m\u001b[0m\n\u001b[1;32m----> 2\u001b[1;33m \u001b[0mele\u001b[0m\u001b[1;33m.\u001b[0m\u001b[0mselect_by_value\u001b[0m\u001b[1;33m(\u001b[0m\u001b[0mrunner\u001b[0m\u001b[1;33m.\u001b[0m\u001b[0mapplication\u001b[0m\u001b[1;33m.\u001b[0m\u001b[0mcv\u001b[0m\u001b[1;33m)\u001b[0m\u001b[1;33m\u001b[0m\u001b[1;33m\u001b[0m\u001b[0m\n\u001b[0m",
      "\u001b[1;32m~\\AppData\\Local\\Programs\\Python\\Python38\\lib\\site-packages\\selenium\\webdriver\\support\\select.py\u001b[0m in \u001b[0;36mselect_by_value\u001b[1;34m(self, value)\u001b[0m\n\u001b[0;32m     85\u001b[0m             \u001b[0mmatched\u001b[0m \u001b[1;33m=\u001b[0m \u001b[1;32mTrue\u001b[0m\u001b[1;33m\u001b[0m\u001b[1;33m\u001b[0m\u001b[0m\n\u001b[0;32m     86\u001b[0m         \u001b[1;32mif\u001b[0m \u001b[1;32mnot\u001b[0m \u001b[0mmatched\u001b[0m\u001b[1;33m:\u001b[0m\u001b[1;33m\u001b[0m\u001b[1;33m\u001b[0m\u001b[0m\n\u001b[1;32m---> 87\u001b[1;33m             \u001b[1;32mraise\u001b[0m \u001b[0mNoSuchElementException\u001b[0m\u001b[1;33m(\u001b[0m\u001b[1;34m\"Cannot locate option with value: %s\"\u001b[0m \u001b[1;33m%\u001b[0m \u001b[0mvalue\u001b[0m\u001b[1;33m)\u001b[0m\u001b[1;33m\u001b[0m\u001b[1;33m\u001b[0m\u001b[0m\n\u001b[0m\u001b[0;32m     88\u001b[0m \u001b[1;33m\u001b[0m\u001b[0m\n\u001b[0;32m     89\u001b[0m     \u001b[1;32mdef\u001b[0m \u001b[0mselect_by_index\u001b[0m\u001b[1;33m(\u001b[0m\u001b[0mself\u001b[0m\u001b[1;33m,\u001b[0m \u001b[0mindex\u001b[0m\u001b[1;33m)\u001b[0m\u001b[1;33m:\u001b[0m\u001b[1;33m\u001b[0m\u001b[1;33m\u001b[0m\u001b[0m\n",
      "\u001b[1;31mNoSuchElementException\u001b[0m: Message: Cannot locate option with value: TONDO_CV.pdf\n"
     ]
    }
   ],
   "source": [
    "runner.application.cv = \"TONDO_CV.pdf\"\n",
    "ele.select_by_value(runner.application.cv)"
   ]
  },
  {
   "cell_type": "code",
   "execution_count": null,
   "metadata": {},
   "outputs": [
    {
     "name": "stderr",
     "output_type": "stream",
     "text": [
      "C:\\Users\\remf\\AppData\\Local\\Temp/ipykernel_13788/3267067984.py:2: DeprecationWarning: find_element_by_* commands are deprecated. Please use find_element() instead\n",
      "  runner.web_driver.find_element_by_id(GovFindAJobSelenium.PAGE_ELEMENTS_IDENTIFIERS[\"job_application_cv_id\"])\n"
     ]
    }
   ],
   "source": [
    "cv_dropdown_select_element = Select(\n",
    "                    runner.web_driver.find_element_by_id(GovFindAJobSelenium.PAGE_ELEMENTS_IDENTIFIERS[\"job_application_cv_id\"])\n",
    "                )"
   ]
  },
  {
   "cell_type": "code",
   "execution_count": null,
   "metadata": {},
   "outputs": [],
   "source": [
    "cv_dropdown_select_element.select_by_visible_text(\n",
    "                    runner.application.cv\n",
    "                )"
   ]
  }
 ],
 "metadata": {
  "interpreter": {
   "hash": "2107450c016993ede61074cf913dd3dba5f8626c5e903192f30f1c3ab9555d77"
  },
  "kernelspec": {
   "display_name": "Python 3.8.5 64-bit",
   "language": "python",
   "name": "python3"
  },
  "language_info": {
   "codemirror_mode": {
    "name": "ipython",
    "version": 3
   },
   "file_extension": ".py",
   "mimetype": "text/x-python",
   "name": "python",
   "nbconvert_exporter": "python",
   "pygments_lexer": "ipython3",
   "version": "3.8.5"
  },
  "orig_nbformat": 4
 },
 "nbformat": 4,
 "nbformat_minor": 2
}
